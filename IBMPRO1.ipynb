{
  "metadata": {
    "language_info": {
      "codemirror_mode": {
        "name": "python",
        "version": 3
      },
      "file_extension": ".py",
      "mimetype": "text/x-python",
      "name": "python",
      "nbconvert_exporter": "python",
      "pygments_lexer": "ipython3",
      "version": "3.8"
    },
    "kernelspec": {
      "name": "python",
      "display_name": "Python (Pyodide)",
      "language": "python"
    }
  },
  "nbformat_minor": 4,
  "nbformat": 4,
  "cells": [
    {
      "cell_type": "markdown",
      "source": "<h1>My Jupyter Notebook on IBM Watson Studio</h1>\n",
      "metadata": {}
    },
    {
      "cell_type": "markdown",
      "source": "__Srushti lokhande__",
      "metadata": {}
    },
    {
      "cell_type": "markdown",
      "source": " Student\n",
      "metadata": {}
    },
    {
      "cell_type": "markdown",
      "source": "*I like data science because I believe every dataset tells a story and I want to be someone who is good at conveying that story to people.*",
      "metadata": {}
    },
    {
      "cell_type": "markdown",
      "source": "### calculation",
      "metadata": {}
    },
    {
      "cell_type": "code",
      "source": "1*1/23\n",
      "metadata": {
        "trusted": true
      },
      "execution_count": 21,
      "outputs": [
        {
          "execution_count": 21,
          "output_type": "execute_result",
          "data": {
            "text/plain": "0.043478260869565216"
          },
          "metadata": {}
        }
      ]
    },
    {
      "cell_type": "markdown",
      "source": "1. appple\n2. mango\n3. orange\n4. banana\n",
      "metadata": {}
    },
    {
      "cell_type": "markdown",
      "source": "    - pineapple\n    - chickoo\n    - fig\n    - custard apple\n    - kiwi\n    - dragon fruit",
      "metadata": {}
    },
    {
      "cell_type": "markdown",
      "source": "### Results\n\n\n| 1 | 2| 3 |\n| --- | --- | --- |\n| 4 | 5| 6 |",
      "metadata": {}
    },
    {
      "cell_type": "code",
      "source": "",
      "metadata": {},
      "execution_count": null,
      "outputs": []
    }
  ]
}